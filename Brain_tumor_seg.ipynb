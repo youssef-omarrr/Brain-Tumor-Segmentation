{
 "cells": [
  {
   "cell_type": "markdown",
   "id": "c29688d4",
   "metadata": {},
   "source": [
    "# Brain tumor segmentation model using MONAI"
   ]
  },
  {
   "cell_type": "markdown",
   "id": "b0c30c05",
   "metadata": {},
   "source": [
    "## Quick overview of steps:\n",
    "\n",
    "1. Build file lists (images, masks).\n",
    "1. Build MONAI transforms for images & masks.\n",
    "1. Create Dataset / Dataloader (CacheDataset for speed).\n",
    "1. Create model (MONAI UNet for 2D).\n",
    "1. Load pretrained checkpoint (if available) into model.\n",
    "1. Define loss, optimizer, scheduler.\n",
    "1. Train (with validation, metrics, checkpointing).\n",
    "1. Fine-tuning tips (freeze, low LR, augmentations, etc.)."
   ]
  },
  {
   "cell_type": "markdown",
   "id": "05fc18a1",
   "metadata": {},
   "source": [
    "## 0. Imports"
   ]
  },
  {
   "cell_type": "code",
   "execution_count": 23,
   "id": "37d58d26",
   "metadata": {},
   "outputs": [
    {
     "data": {
      "text/plain": [
       "(device(type='cuda'), '2.6.0+cu126')"
      ]
     },
     "execution_count": 23,
     "metadata": {},
     "output_type": "execute_result"
    }
   ],
   "source": [
    "import os\n",
    "from pathlib import Path\n",
    "\n",
    "import torch\n",
    "from torch.utils.data import DataLoader\n",
    "\n",
    "from monai.transforms import (\n",
    "    LoadImaged, EnsureChannelFirstd, ScaleIntensityd, ToTensord,\n",
    "    RandFlipd, RandRotate90d, Compose\n",
    ")\n",
    "from monai.data import Dataset, CacheDataset\n",
    "from monai.networks.nets import UNet\n",
    "from monai.losses import DiceLoss\n",
    "from monai.metrics import DiceMetric\n",
    "from monai.inferers import sliding_window_inference\n",
    "from monai.utils import set_determinism\n",
    "\n",
    "from tqdm import tqdm\n",
    "\n",
    "set_determinism(42)\n",
    "device = torch.device(\"cuda\" if torch.cuda.is_available() else \"cpu\")\n",
    "device, torch.__version__"
   ]
  },
  {
   "cell_type": "markdown",
   "id": "2585f80f",
   "metadata": {},
   "source": [
    "## 1. file lists"
   ]
  },
  {
   "cell_type": "code",
   "execution_count": 15,
   "id": "4bde988f",
   "metadata": {},
   "outputs": [
    {
     "name": "stdout",
     "output_type": "stream",
     "text": [
      "{'image': WindowsPath('brain_tumor_dataset/images/1041.png'), 'mask': WindowsPath('brain_tumor_dataset/masks/1041.png')}\n",
      "{'image': WindowsPath('brain_tumor_dataset/images/1284.png'), 'mask': WindowsPath('brain_tumor_dataset/masks/1284.png')}\n"
     ]
    }
   ],
   "source": [
    "IMAGE_DIR = Path(\"brain_tumor_dataset/images\")\n",
    "MASK_DIR = Path(\"brain_tumor_dataset/masks\")\n",
    "\n",
    "# Get all images and masks \n",
    "images = list(IMAGE_DIR.glob(\"*.png\"))\n",
    "\n",
    "masks = list(MASK_DIR.glob(\"*.png\"))\n",
    "\n",
    "data_dicts = [\n",
    "    {\n",
    "        \"image\": img, \n",
    "        \"mask\": m\n",
    "        \n",
    "    } for img, m in zip(images, masks)\n",
    "]\n",
    "\n",
    "\n",
    "# Split (simply shuffle first)\n",
    "import random\n",
    "random.seed(42) # set random seed for reproducibility\n",
    "\n",
    "random.shuffle(data_dicts)\n",
    "n_val = int( 0.8 * len(data_dicts)) # 80% for training -> 20% for testing\n",
    "\n",
    "train_files = data_dicts[:n_val]\n",
    "test_files = data_dicts[n_val:]\n",
    "\n",
    "print(train_files[5])\n",
    "print(test_files[5])"
   ]
  },
  {
   "cell_type": "markdown",
   "id": "a84c2d98",
   "metadata": {},
   "source": [
    "## 2. transforms 2D"
   ]
  },
  {
   "cell_type": "code",
   "execution_count": null,
   "id": "8712815c",
   "metadata": {},
   "outputs": [],
   "source": [
    "train_transforms = Compose([\n",
    "    \n",
    "    LoadImaged(keys=[\"image\", \"mask\"]),\n",
    "    EnsureChannelFirstd(keys=[\"image\", \"mask\"]),\n",
    "    ScaleIntensityd(keys=[\"images\"]),\n",
    "    RandFlipd(keys=[\"image\", \"mask\"], \n",
    "                prob = 0.5, spatial_axis= 0),\n",
    "    RandRotate90d(keys=[\"image\", \"mask\"],\n",
    "                prob = 0.5, max_k= 3),\n",
    "    ToTensord(keys=[\"image\", \"mask\"]),\n",
    "    \n",
    "])\n",
    "\n",
    "test_transforms = Compose([\n",
    "    LoadImaged(keys=[\"image\", \"mask\"]),\n",
    "    EnsureChannelFirstd(keys=[\"image\", \"mask\"]),\n",
    "    ScaleIntensityd(keys=[\"images\"]),\n",
    "    ToTensord(keys=[\"image\", \"mask\"]),\n",
    "])"
   ]
  },
  {
   "cell_type": "code",
   "execution_count": null,
   "id": "baec4b73",
   "metadata": {},
   "outputs": [],
   "source": []
  }
 ],
 "metadata": {
  "kernelspec": {
   "display_name": ".venv",
   "language": "python",
   "name": "python3"
  },
  "language_info": {
   "codemirror_mode": {
    "name": "ipython",
    "version": 3
   },
   "file_extension": ".py",
   "mimetype": "text/x-python",
   "name": "python",
   "nbconvert_exporter": "python",
   "pygments_lexer": "ipython3",
   "version": "3.10.5"
  }
 },
 "nbformat": 4,
 "nbformat_minor": 5
}
