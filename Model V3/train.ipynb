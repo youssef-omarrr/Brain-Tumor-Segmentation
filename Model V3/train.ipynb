{
 "cells": [
  {
   "cell_type": "markdown",
   "id": "2827113c",
   "metadata": {},
   "source": [
    "# 1. Load dataloaders"
   ]
  },
  {
   "cell_type": "code",
   "execution_count": 1,
   "id": "18adbc3b",
   "metadata": {},
   "outputs": [
    {
     "name": "stdout",
     "output_type": "stream",
     "text": [
      "Train dataset size: 2451\n",
      "Validation dataset size: 613\n"
     ]
    }
   ],
   "source": [
    "from data.dataloaders import create_dataloaders\n",
    "\n",
    "train_dataloader, val_dataloader = create_dataloaders(\n",
    "    imgs_dir= \"../BT_dataset/images/\",\n",
    "    masks_dir= \"../BT_dataset/masks/\",\n",
    "    batch_size=2,\n",
    ")"
   ]
  },
  {
   "cell_type": "markdown",
   "id": "fe24d722",
   "metadata": {},
   "source": [
    "# 2. Load model"
   ]
  },
  {
   "cell_type": "code",
   "execution_count": 2,
   "id": "fc989c16",
   "metadata": {},
   "outputs": [],
   "source": [
    "from model import TumorSegmentaionModel\n",
    "\n",
    "model = TumorSegmentaionModel()"
   ]
  },
  {
   "cell_type": "markdown",
   "id": "90f49256",
   "metadata": {},
   "source": [
    "# 3. Train model"
   ]
  },
  {
   "cell_type": "code",
   "execution_count": 3,
   "id": "94d269d3",
   "metadata": {},
   "outputs": [],
   "source": [
    "import warnings\n",
    "warnings.filterwarnings(\"ignore\")\n"
   ]
  },
  {
   "cell_type": "code",
   "execution_count": 5,
   "id": "58845345",
   "metadata": {},
   "outputs": [
    {
     "name": "stdout",
     "output_type": "stream",
     "text": [
      "Loaded pretrained model:\n",
      "- val_loss=0.3256\n",
      "- dice_loss=0.7466\n",
      "- hausdorff_dist=18.3576\n",
      "Training epoch no.1 / 1\n",
      "-----------------------------------\n"
     ]
    },
    {
     "name": "stderr",
     "output_type": "stream",
     "text": [
      "Training...: 100%|██████████| 1225/1225 [07:31<00:00,  2.71it/s, Loss=0.5227, LR=0.000000]\n",
      "Testing...: 100%|██████████| 307/307 [00:36<00:00,  8.51it/s, Loss=0.4096] \n"
     ]
    },
    {
     "name": "stdout",
     "output_type": "stream",
     "text": [
      "Model saved.\n",
      "Epoch no.1 / 1 summary\n",
      "-----------------------------------\n",
      "Average train losses = 0.512\n",
      "Average validation losses = 0.303\n",
      "Dice Score: 0.6905\n",
      "Hausdorff Distance: 35.2032\n",
      "=================================== \n",
      "\n"
     ]
    }
   ],
   "source": [
    "from training.trainer import train\n",
    "\n",
    "train_step_losses, val_step_losses = train(\n",
    "                                            model,\n",
    "                                            train_dataloader,\n",
    "                                            val_dataloader,\n",
    "                                            load_pretrained=\"checkpoints/brain_model.pth\",\n",
    "                                            epochs= 1)"
   ]
  },
  {
   "cell_type": "code",
   "execution_count": null,
   "id": "60353782",
   "metadata": {},
   "outputs": [],
   "source": []
  }
 ],
 "metadata": {
  "kernelspec": {
   "display_name": ".venv",
   "language": "python",
   "name": "python3"
  },
  "language_info": {
   "codemirror_mode": {
    "name": "ipython",
    "version": 3
   },
   "file_extension": ".py",
   "mimetype": "text/x-python",
   "name": "python",
   "nbconvert_exporter": "python",
   "pygments_lexer": "ipython3",
   "version": "3.10.5"
  }
 },
 "nbformat": 4,
 "nbformat_minor": 5
}
