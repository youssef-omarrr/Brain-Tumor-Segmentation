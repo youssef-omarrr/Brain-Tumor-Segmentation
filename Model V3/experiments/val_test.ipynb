{
 "cells": [
  {
   "cell_type": "code",
   "execution_count": 1,
   "id": "9a1f0ed9",
   "metadata": {},
   "outputs": [
    {
     "name": "stdout",
     "output_type": "stream",
     "text": [
      "Train dataset size: 2451\n",
      "Validation dataset size: 613\n"
     ]
    }
   ],
   "source": [
    "from data.dataloaders import create_dataloaders\n",
    "\n",
    "train_dataloader, val_dataloader = create_dataloaders(\n",
    "    imgs_dir= \"../BT_dataset/images/\",\n",
    "    masks_dir= \"../BT_dataset/masks/\",\n",
    "    batch_size=2,\n",
    ")"
   ]
  },
  {
   "cell_type": "code",
   "execution_count": null,
   "id": "83c0ba97",
   "metadata": {},
   "outputs": [],
   "source": [
    "from model import TumorSegmentaionModel\n",
    "from training.losses import CombinedLoss\n",
    "from monai.metrics import DiceMetric, HausdorffDistanceMetric\n",
    "\n",
    "from training.training_loop import validate\n",
    "\n",
    "model = TumorSegmentaionModel()\n",
    "\n",
    "model = model.to(\"cuda\") \n",
    "    \n",
    "loss_fn = CombinedLoss() \n",
    "metric = {\n",
    "        # 2.1. Dice Metric: Measures the overlap between prediction and ground truth.\n",
    "        # It is the primary metric for most segmentation tasks.\n",
    "        'dice': DiceMetric(\n",
    "            include_background=False, # Crucial: only evaluate the tumor class, not the background.\n",
    "            reduction='mean',\n",
    "            get_not_nans=False\n",
    "        ),\n",
    "        \n",
    "        # 2.2. Hausdorff Distance: Measures the distance between the boundaries of the\n",
    "        # predicted and ground truth segmentations. Excellent for evaluating boundary accuracy.\n",
    "        'hausdorff': HausdorffDistanceMetric(\n",
    "            include_background=False,\n",
    "            reduction='mean',\n",
    "            percentile=95 # Use the 95th percentile to make the metric robust to outliers.\n",
    "        )\n",
    "    }\n",
    "\n",
    "val_loss, dice_score, hausdorff_dist = validate(\n",
    "            model = model,\n",
    "            val_dataloader = val_dataloader, \n",
    "            loss_fn = loss_fn, \n",
    "            metric = metric, \n",
    "            device = \"cuda\")"
   ]
  }
 ],
 "metadata": {
  "kernelspec": {
   "display_name": ".venv",
   "language": "python",
   "name": "python3"
  },
  "language_info": {
   "codemirror_mode": {
    "name": "ipython",
    "version": 3
   },
   "file_extension": ".py",
   "mimetype": "text/x-python",
   "name": "python",
   "nbconvert_exporter": "python",
   "pygments_lexer": "ipython3",
   "version": "3.10.5"
  }
 },
 "nbformat": 4,
 "nbformat_minor": 5
}
