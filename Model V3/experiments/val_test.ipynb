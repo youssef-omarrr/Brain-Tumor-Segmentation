{
 "cells": [
  {
   "cell_type": "code",
   "execution_count": 1,
   "id": "9a1f0ed9",
   "metadata": {},
   "outputs": [
    {
     "name": "stdout",
     "output_type": "stream",
     "text": [
      "Train dataset size: 5451\n",
      "Validation dataset size: 1363\n",
      "-----------------------------------\n",
      "Train dataloader size: 2725\n",
      "Validation dataloader size: 682\n"
     ]
    }
   ],
   "source": [
    "from data.dataloaders import create_dataloaders\n",
    "\n",
    "train_dataloader, val_dataloader = create_dataloaders(\n",
    "    imgs_dir= \"../BT_dataset/images/\",\n",
    "    masks_dir= \"../BT_dataset/masks/\",\n",
    "    batch_size=2,\n",
    ")"
   ]
  },
  {
   "cell_type": "code",
   "execution_count": null,
   "id": "83c0ba97",
   "metadata": {},
   "outputs": [
    {
     "name": "stderr",
     "output_type": "stream",
     "text": [
      "Testing...:   0%|          | 0/682 [00:00<?, ?it/s]monai.metrics.utils get_mask_edges:always_return_as_numpy: Argument `always_return_as_numpy` has been deprecated since version 1.5.0. It will be removed in version 1.7.0. The option is removed and the return type will always be equal to the input type.\n",
      "Testing...:   0%|          | 2/682 [00:05<27:27,  2.42s/it, Loss=1.7283]  the ground truth of class 0 is all 0, this may result in nan/inf distance.\n",
      "Testing...:  13%|█▎        | 92/682 [00:23<02:09,  4.56it/s, Loss=1.8526]"
     ]
    }
   ],
   "source": [
    "from model import TumorSegmentaionModel\n",
    "from training.losses import CombinedLoss\n",
    "from monai.metrics import DiceMetric, HausdorffDistanceMetric\n",
    "\n",
    "from training.training_loop import validate\n",
    "\n",
    "model = TumorSegmentaionModel()\n",
    "\n",
    "model = model.to(\"cuda\") \n",
    "    \n",
    "loss_fn = CombinedLoss() \n",
    "metric = {\n",
    "        # 2.1. Dice Metric: Measures the overlap between prediction and ground truth.\n",
    "        # It is the primary metric for most segmentation tasks.\n",
    "        'dice': DiceMetric(\n",
    "            include_background=False, # Crucial: only evaluate the tumor class, not the background.\n",
    "            reduction='mean',\n",
    "            get_not_nans=False\n",
    "        ),\n",
    "        \n",
    "        # 2.2. Hausdorff Distance: Measures the distance between the boundaries of the\n",
    "        # predicted and ground truth segmentations. Excellent for evaluating boundary accuracy.\n",
    "        'hausdorff': HausdorffDistanceMetric(\n",
    "            include_background=False,\n",
    "            reduction='mean',\n",
    "            percentile=95 # Use the 95th percentile to make the metric robust to outliers.\n",
    "        )\n",
    "    }\n",
    "\n",
    "val_loss, dice_score, hausdorff_dist = validate(\n",
    "            model = model,\n",
    "            val_dataloader = val_dataloader, \n",
    "            loss_fn = loss_fn, \n",
    "            metric = metric, \n",
    "            device = \"cuda\")"
   ]
  },
  {
   "cell_type": "code",
   "execution_count": null,
   "id": "c753d340",
   "metadata": {},
   "outputs": [],
   "source": []
  }
 ],
 "metadata": {
  "kernelspec": {
   "display_name": ".venv",
   "language": "python",
   "name": "python3"
  },
  "language_info": {
   "codemirror_mode": {
    "name": "ipython",
    "version": 3
   },
   "file_extension": ".py",
   "mimetype": "text/x-python",
   "name": "python",
   "nbconvert_exporter": "python",
   "pygments_lexer": "ipython3",
   "version": "3.10.5"
  }
 },
 "nbformat": 4,
 "nbformat_minor": 5
}
