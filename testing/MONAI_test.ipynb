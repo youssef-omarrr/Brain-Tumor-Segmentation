{
 "cells": [
  {
   "cell_type": "markdown",
   "id": "21d853a8",
   "metadata": {},
   "source": [
    "# In this notebook I will test loadin `MONAI` and working with it"
   ]
  },
  {
   "cell_type": "code",
   "execution_count": null,
   "id": "1453aa9b",
   "metadata": {},
   "outputs": [],
   "source": [
    "# !pip install \"monai[all]\""
   ]
  },
  {
   "cell_type": "markdown",
   "id": "6ee94b16",
   "metadata": {},
   "source": [
    "## 2. Loading a Pretrained Model in MONAI\n",
    "MONAI’s `monai.networks.nets` and Model Zoo let you directly pull pretrained models.\n",
    "\n",
    "Example: Loading a pretrained 3D UNet from the model zoo"
   ]
  },
  {
   "cell_type": "code",
   "execution_count": 1,
   "id": "e8ee7571",
   "metadata": {},
   "outputs": [
    {
     "data": {
      "text/plain": [
       "('cuda', '2.6.0+cu126')"
      ]
     },
     "execution_count": 1,
     "metadata": {},
     "output_type": "execute_result"
    }
   ],
   "source": [
    "# from monai.networks.nets import UNet\n",
    "from torch import cuda\n",
    "import torch\n",
    "\n",
    "device = \"cuda\" if cuda.is_available() else \"cpu\"\n",
    "device, torch.__version__\n"
   ]
  },
  {
   "cell_type": "code",
   "execution_count": 7,
   "id": "e1181d36",
   "metadata": {},
   "outputs": [
    {
     "data": {
      "text/plain": [
       "==============================================================================================================================================================================================\n",
       "Layer (type:depth-idx)                                                                     Input Shape               Output Shape              Param #                   Trainable\n",
       "==============================================================================================================================================================================================\n",
       "UNet                                                                                       [1, 1, 256, 256]          [1, 3, 256, 256]          --                        True\n",
       "├─Sequential: 1-1                                                                          [1, 1, 256, 256]          [1, 3, 256, 256]          --                        True\n",
       "│    └─ResidualUnit: 2-1                                                                   [1, 1, 256, 256]          [1, 16, 128, 128]         --                        True\n",
       "│    │    └─Conv2d: 3-1                                                                    [1, 1, 256, 256]          [1, 16, 128, 128]         160                       True\n",
       "│    │    └─Sequential: 3-2                                                                [1, 1, 256, 256]          [1, 16, 128, 128]         2,482                     True\n",
       "│    └─SkipConnection: 2-2                                                                 [1, 16, 128, 128]         [1, 32, 128, 128]         --                        True\n",
       "│    │    └─Sequential: 3-3                                                                [1, 16, 128, 128]         [1, 16, 128, 128]         1,621,902                 True\n",
       "│    └─Sequential: 2-3                                                                     [1, 32, 128, 128]         [1, 3, 256, 256]          --                        True\n",
       "│    │    └─Convolution: 3-4                                                               [1, 32, 128, 128]         [1, 3, 256, 256]          868                       True\n",
       "│    │    └─ResidualUnit: 3-5                                                              [1, 3, 256, 256]          [1, 3, 256, 256]          84                        True\n",
       "==============================================================================================================================================================================================\n",
       "Total params: 1,625,496\n",
       "Trainable params: 1,625,496\n",
       "Non-trainable params: 0\n",
       "Total mult-adds (G): 1.21\n",
       "==============================================================================================================================================================================================\n",
       "Input size (MB): 0.26\n",
       "Forward/backward pass size (MB): 41.68\n",
       "Params size (MB): 6.50\n",
       "Estimated Total Size (MB): 48.45\n",
       "=============================================================================================================================================================================================="
      ]
     },
     "execution_count": 7,
     "metadata": {},
     "output_type": "execute_result"
    }
   ],
   "source": [
    "from monai.networks.nets import UNet\n",
    "from torchinfo import summary\n",
    "\n",
    "# model: MONAI UNet for 2D\n",
    "model = UNet(\n",
    "    spatial_dims=2,\n",
    "    in_channels=1,\n",
    "    out_channels=3,\n",
    "    channels=(16, 32, 64, 128, 256),\n",
    "    strides=(2, 2, 2, 2),\n",
    "    num_res_units=2,\n",
    ").to(device)\n",
    "\n",
    "\n",
    "summary(\n",
    "    model,\n",
    "    input_size=(1, 1, 256, 256),  # (batch, channels, height, width)\n",
    "    col_names=(\"input_size\", \"output_size\", \"num_params\", \"trainable\"),\n",
    ")"
   ]
  },
  {
   "cell_type": "code",
   "execution_count": null,
   "id": "bdfddf37",
   "metadata": {},
   "outputs": [],
   "source": []
  }
 ],
 "metadata": {
  "kernelspec": {
   "display_name": ".venv",
   "language": "python",
   "name": "python3"
  },
  "language_info": {
   "codemirror_mode": {
    "name": "ipython",
    "version": 3
   },
   "file_extension": ".py",
   "mimetype": "text/x-python",
   "name": "python",
   "nbconvert_exporter": "python",
   "pygments_lexer": "ipython3",
   "version": "3.10.5"
  }
 },
 "nbformat": 4,
 "nbformat_minor": 5
}
