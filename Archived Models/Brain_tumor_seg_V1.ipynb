{
 "cells": [
  {
   "cell_type": "markdown",
   "id": "72f5ee8b",
   "metadata": {},
   "source": [
    "# Brain Tumor Segmentation (v1): **DeepLabV3** architecture with a pretrained `ResNet-50` encoder.\n",
    "\n",
    "This notebook fine-tunes a pretrained DeepLabV3 (ResNet-50) model from torchvision for binary brain tumor segmentation on single-channel (grayscale) MRI slices.\n",
    "\n",
    "Primary goals:\n",
    "\n",
    "- Adapt a pretrained DeepLabV3 model to accept 1-channel input and output two classes (background vs tumor).\n",
    "- Freeze the ResNet backbone and fine-tune the segmentation heads to leverage pretrained features while reducing training time.\n",
    "- Create a robust PyTorch Dataset and DataLoaders for grayscale images and binary masks.\n",
    "- Use Dice loss and MONAI's Dice metric for segmentation-specific optimization and evaluation. Automatic Mixed Precision (AMP) is enabled for faster GPU training.\n",
    "\n",
    "Assumptions:\n",
    "\n",
    "- Input images are stored as PNG files in `brain_tumor_dataset/images` and masks in `brain_tumor_dataset/masks`.\n",
    "- Masks are binary or use 0/255; the dataset class binarizes masks automatically.\n"
   ]
  },
  {
   "cell_type": "code",
   "execution_count": 1,
   "id": "ab811a83",
   "metadata": {},
   "outputs": [
    {
     "data": {
      "text/plain": [
       "(device(type='cuda'), '2.8.0+cu126', '0.23.0+cu126')"
      ]
     },
     "execution_count": 1,
     "metadata": {},
     "output_type": "execute_result"
    }
   ],
   "source": [
    "import torch\n",
    "import torchvision\n",
    "\n",
    "\n",
    "device = torch.device(\"cuda\" if torch.cuda.is_available() else \"cpu\")\n",
    "device, torch.__version__, torchvision.__version__"
   ]
  },
  {
   "cell_type": "markdown",
   "id": "af6d2e1b",
   "metadata": {},
   "source": [
    "## 1. Load the pretrained model\n",
    "\n",
    "We load DeepLabV3 (ResNet-50) with torchvision's DEFAULT weights to leverage pretrained feature extractors. The weights object provides a `transforms()` helper describing the original model's expected preprocessing.\n",
    "\n",
    "Because our MRI slices are grayscale, we build a custom transform pipeline that:\n",
    "\n",
    "- Resizes images to the network's expected resolution,\n",
    "- Converts RGB to a single grayscale channel,\n",
    "- Converts to a tensor and normalizes with a 1-channel mean/std.\n",
    "\n",
    "After loading the pretrained model we will:\n",
    "\n",
    "1. Freeze the backbone parameters to keep pretrained features fixed during initial training.\n",
    "2. Replace the classifier and auxiliary classifier to output 2 channels (background vs tumor).\n",
    "3. Update the first convolution to accept a single input channel.\n",
    "\n",
    "This approach reduces the amount of training required while adapting the architecture to our data.\n"
   ]
  },
  {
   "cell_type": "code",
   "execution_count": null,
   "id": "b47f91ec",
   "metadata": {},
   "outputs": [],
   "source": [
    "weights = torchvision.models.segmentation.DeepLabV3_ResNet50_Weights.DEFAULT\n",
    "transforms = weights.transforms()\n",
    "\n",
    "deeplap_V3 = torchvision.models.segmentation.deeplabv3_resnet50(weights = weights)\n",
    "deeplap_V3"
   ]
  },
  {
   "cell_type": "code",
   "execution_count": null,
   "id": "03f3b258",
   "metadata": {},
   "outputs": [],
   "source": [
    "from torchinfo import summary\n",
    "\n",
    "summary(\n",
    "    deeplap_V3,\n",
    "    # The input size should match the model's 2D configuration: (batch_size, channels, height, width)\n",
    "    input_size=(1, 3, 224, 224),\n",
    "    col_names=(\"input_size\", \"output_size\", \"num_params\", \"trainable\"),\n",
    ")"
   ]
  },
  {
   "cell_type": "code",
   "execution_count": 4,
   "id": "d51404ba",
   "metadata": {},
   "outputs": [
    {
     "data": {
      "text/plain": [
       "SemanticSegmentation(\n",
       "    resize_size=[520]\n",
       "    mean=[0.485, 0.456, 0.406]\n",
       "    std=[0.229, 0.224, 0.225]\n",
       "    interpolation=InterpolationMode.BILINEAR\n",
       ")"
      ]
     },
     "execution_count": 4,
     "metadata": {},
     "output_type": "execute_result"
    }
   ],
   "source": [
    "transforms # notice how the mean and std are on 3 channels, but we need only one"
   ]
  },
  {
   "cell_type": "code",
   "execution_count": 5,
   "id": "ab59b5c9",
   "metadata": {},
   "outputs": [],
   "source": [
    "# Define the transform for single-channel (grayscale) images\n",
    "import torchvision.transforms as T\n",
    "from torchvision.transforms import InterpolationMode\n",
    "\n",
    "deeplab_V3_transform = T.Compose([\n",
    "    T.ToPILImage(), # fixes a numpy type error\n",
    "    T.Resize(520, interpolation=InterpolationMode.BILINEAR),\n",
    "    T.Grayscale(num_output_channels=1),   # convert to 1 channel\n",
    "    T.ToTensor(),\n",
    "    T.Normalize(mean=[0.5], std=[0.5])    # adjust mean/std for 1 channel\n",
    "])"
   ]
  },
  {
   "cell_type": "code",
   "execution_count": null,
   "id": "ccbe0175",
   "metadata": {},
   "outputs": [],
   "source": [
    "from torchinfo import summary\n",
    "\n",
    "# Freeze backbone\n",
    "for param in deeplap_V3.backbone.parameters():\n",
    "    param.requires_grad = False\n",
    "\n",
    "# ======================================================================== #\n",
    "# FURTHER FREEZING (reducing trainable params from 18,489,412 to 4,164)\n",
    "# a 4,440× reduction in the number of parameters being updated each step.\n",
    "# ========================================================================= #\n",
    "# Freeze classifier except final conv\n",
    "for name, param in deeplap_V3.classifier.named_parameters():\n",
    "    if not isinstance(param, torch.nn.Conv2d) or \"4\" not in name or \"13\" not in name:  # keep only final conv2d trainable\n",
    "        param.requires_grad = False\n",
    "\n",
    "# Freeze aux classifier except final conv\n",
    "for name, param in deeplap_V3.aux_classifier.named_parameters():\n",
    "    if not isinstance(param, torch.nn.Conv2d) or \"4\" not in name or \"18\" not in name: # keep only final conv2d trainable\n",
    "        param.requires_grad = False\n",
    "    \n",
    "# Change classifier and auxiliary head to 2 only\n",
    "deeplap_V3.classifier[4] =  torch.nn.Conv2d(256, 2, # this is the only change\n",
    "                                            kernel_size=(1, 1), stride=(1, 1))\n",
    "deeplap_V3.aux_classifier[4] =  torch.nn.Conv2d(256, 2, # this is the only change\n",
    "                                                kernel_size=(1, 1), stride=(1, 1))\n",
    "\n",
    "# Change the input to be 1 channel only (not 3)\n",
    "deeplap_V3.backbone['conv1'] = torch.nn.Conv2d (1 # this is the only change\n",
    "                                                , 64, kernel_size=(7, 7), stride=(2, 2), padding=(3, 3), bias=False)\n",
    "\n",
    "summary(\n",
    "    deeplap_V3,\n",
    "    # The input size should match the model's 2D configuration: (batch_size, channels, height, width)\n",
    "    input_size=(1, 1, 224, 224),\n",
    "    col_names=(\"input_size\", \"output_size\", \"num_params\", \"trainable\"),\n",
    ")"
   ]
  },
  {
   "cell_type": "markdown",
   "id": "97c70f6c",
   "metadata": {},
   "source": [
    "## 2. Create dataset and dataloaders\n",
    "\n",
    "This section prepares the dataset and DataLoaders. Steps:\n",
    "\n",
    "1. Implement a custom Dataset that reads grayscale images and masks, binarizes masks, and applies optional transforms (e.g., resizing/augmentation).\n",
    "2. Instantiate the full dataset and split it into training and validation subsets (80/20 split).\n",
    "3. Create DataLoaders with appropriate batch sizes and worker counts for training and validation.\n",
    "\n",
    "Keep the transforms consistent between training and validation (except for any augmentations you only want during training).\n"
   ]
  },
  {
   "cell_type": "markdown",
   "id": "48f189d1",
   "metadata": {},
   "source": [
    "### 2.1 Dataset details\n",
    "\n",
    "The custom `BrainTumorDataset` does the following:\n",
    "\n",
    "- Loads images and masks from the provided directories and sorts filenames to keep pairs aligned.\n",
    "- Converts both image and mask to grayscale (`L` mode) and returns them as NumPy arrays.\n",
    "- Binarizes masks by thresholding at 127 (so 0/255 masks become 0/1).\n",
    "- If a transform is provided (e.g., Albumentations), it is applied to both image and mask together.\n",
    "\n",
    "Important: Ensure the dataset directories contain matching image/mask pairs and are named consistently.\n"
   ]
  },
  {
   "cell_type": "code",
   "execution_count": 7,
   "id": "807ecafa",
   "metadata": {},
   "outputs": [],
   "source": [
    "from torch.utils.data import Dataset\n",
    "from PIL import Image\n",
    "import numpy as np\n",
    "\n",
    "class BrainTumorDataset(Dataset):\n",
    "    \"\"\"Custom PyTorch Dataset for loading brain tumor images and masks.\"\"\"\n",
    "    \n",
    "    def __init__(self, image_dir, mask_dir, image_transform=None, mask_transform=None):\n",
    "        \"\"\"\n",
    "        Args:\n",
    "            image_dir (pathlib.Path or str): Directory with all the images.\n",
    "            mask_dir (pathlib.Path or str): Directory with all the masks.\n",
    "            image_transform (callable, optional): Transform for images.\n",
    "            mask_transform (callable, optional): Transform for masks.\n",
    "    \"\"\"\n",
    "        self.image_transform = image_transform\n",
    "        self.mask_transform = mask_transform\n",
    "        \n",
    "        # Get all image and mask file paths and sort them to ensure they correspond\n",
    "        self.images = sorted(list(image_dir.glob(\"*.png\")))\n",
    "        self.masks = sorted(list(mask_dir.glob(\"*.png\")))\n",
    "        \n",
    "        # Ensure the number of images and masks are the same for data integrity\n",
    "        assert len(self.images) == len(self.masks), \"Number of images and masks must be equal.\"\n",
    "\n",
    "    def __len__(self):\n",
    "        \"\"\"Returns the total number of samples in the dataset.\"\"\"\n",
    "        return len(self.images)\n",
    "\n",
    "    def __getitem__(self, idx):\n",
    "        \"\"\"\n",
    "        Fetches the sample at the given index, loads it, and applies transforms.\n",
    "\n",
    "        Args:\n",
    "            idx (int): The index of the sample to fetch.\n",
    "\n",
    "        Returns:\n",
    "            tuple: (image, mask) where image is the transformed image and mask is the transformed mask.\n",
    "        \"\"\"\n",
    "        # Get the file paths for the image and mask\n",
    "        image_path = self.images[idx]\n",
    "        mask_path = self.masks[idx]\n",
    "        \n",
    "        # Open the image and mask files\n",
    "        # Images and masks are converted to grayscale (L) for single-channel processing\n",
    "        image = np.array(Image.open(image_path).convert(\"L\"))\n",
    "        mask = np.array(Image.open(mask_path).convert(\"L\"), dtype=np.float32)\n",
    "        \n",
    "        # Normalize mask to be 0 or 1, as pixel values are often 0 and 255\n",
    "        # A more robust and explicit way to binarize the mask\n",
    "        mask = (mask > 127).astype(np.float32)\n",
    "        \n",
    "        \"\"\"\n",
    "        (mask > 127): This creates a boolean array \n",
    "                    where pixels with a value greater than 127 become True \n",
    "                    and all others become False.\n",
    "                    \n",
    "        .astype(np.float32): This converts the boolean array into a float array, \n",
    "                            where True becomes 1.0 and False becomes 0.0.\n",
    "        \"\"\"\n",
    "\n",
    "        \n",
    "        # Apply transformations if they are provided\n",
    "        if self.image_transform:\n",
    "            image = self.image_transform(image)\n",
    "        if self.mask_transform:\n",
    "            mask = self.mask_transform(mask)\n",
    "            \n",
    "        return image, mask\n",
    "\n"
   ]
  },
  {
   "cell_type": "code",
   "execution_count": 8,
   "id": "87924492",
   "metadata": {},
   "outputs": [],
   "source": [
    "# Define the transform for single-channel (grayscale) images\n",
    "import torchvision.transforms as T\n",
    "from torchvision.transforms import InterpolationMode\n",
    "\n",
    "# Define separate, robust transformation pipelines for images and masks.\n",
    "# This is critical because masks require different handling (e.g., no normalization).\n",
    "\n",
    "# Transform for the IMAGES\n",
    "image_transform = T.Compose([\n",
    "    T.ToPILImage(), # fixes a numpy type error\n",
    "    T.Resize((520, 520), interpolation=InterpolationMode.BILINEAR),\n",
    "    T.Grayscale(num_output_channels=1),\n",
    "    T.ToTensor(),\n",
    "    T.Normalize(mean=[0.5], std=[0.5])  # Normalization is for images only\n",
    "])\n",
    "\n",
    "# Transform for the MASKS\n",
    "mask_transform = T.Compose([\n",
    "    T.ToPILImage(),\n",
    "    T.Resize((520, 520), interpolation=InterpolationMode.NEAREST), # Use NEAREST to preserve 0/1 values,\n",
    "    T.Grayscale(num_output_channels=1),\n",
    "    T.ToTensor()  # DO NOT normalize masks\n",
    "])"
   ]
  },
  {
   "cell_type": "code",
   "execution_count": 9,
   "id": "0a3757e8",
   "metadata": {},
   "outputs": [
    {
     "name": "stdout",
     "output_type": "stream",
     "text": [
      "Train dataset: <torch.utils.data.dataset.Subset object at 0x0000020278806740>\n",
      "Validation dataset: <torch.utils.data.dataset.Subset object at 0x0000020278807C70>\n",
      "Total samples: 3064\n",
      "Training samples: 2451\n",
      "Validation samples: 613\n"
     ]
    }
   ],
   "source": [
    "# init datasets\n",
    "from pathlib import Path\n",
    "from torch.utils.data import random_split\n",
    "\n",
    "\n",
    "IMAGES_DIR = Path(\"brain_tumor_dataset/images\")\n",
    "MASKS_DIR = Path(\"brain_tumor_dataset/masks\")\n",
    "\n",
    "# 1. Instantiate the full dataset\n",
    "full_dataset = BrainTumorDataset(image_dir= IMAGES_DIR,\n",
    "                            mask_dir= MASKS_DIR,\n",
    "                            image_transform = image_transform,\n",
    "                            mask_transform= mask_transform)\n",
    "\n",
    "# 2. Define split sizes (80% train, 20% validation)\n",
    "train_size = int(0.8 * len(full_dataset))\n",
    "val_size = len(full_dataset) - train_size\n",
    "\n",
    "# 3. Perform the split\n",
    "generator = torch.Generator().manual_seed(42) # for reproducibility\n",
    "train_dataset, val_dataset = random_split(full_dataset, \n",
    "                                        [train_size, val_size], \n",
    "                                        generator=generator)\n",
    "\n",
    "# Test print lengths\n",
    "print(f\"Train dataset: {train_dataset}\")\n",
    "print(f\"Validation dataset: {val_dataset}\")\n",
    "\n",
    "print(f\"Total samples: {len(full_dataset)}\")\n",
    "print(f\"Training samples: {len(train_dataset)}\")\n",
    "print(f\"Validation samples: {len(val_dataset)}\")"
   ]
  },
  {
   "cell_type": "markdown",
   "id": "b0cd12a9",
   "metadata": {},
   "source": [
    "### 2.2 DataLoaders\n",
    "\n",
    "We create PyTorch DataLoaders for training and validation. Important considerations:\n",
    "\n",
    "- Use `shuffle=True` for the training loader to randomize samples each epoch.\n",
    "- Use reasonable `batch_size` values based on GPU memory.\n",
    "- Set `num_workers` to a value appropriate for your machine (e.g., `os.cpu_count()`), and use `pin_memory=True` when training on CUDA.\n",
    "\n",
    "The loaders return (image, mask) tuples ready for the training loop.\n"
   ]
  },
  {
   "cell_type": "code",
   "execution_count": 10,
   "id": "efe3dd44",
   "metadata": {},
   "outputs": [
    {
     "data": {
      "text/plain": [
       "16"
      ]
     },
     "execution_count": 10,
     "metadata": {},
     "output_type": "execute_result"
    }
   ],
   "source": [
    "import os\n",
    "os.cpu_count()"
   ]
  },
  {
   "cell_type": "code",
   "execution_count": 11,
   "id": "ffde3b11",
   "metadata": {},
   "outputs": [
    {
     "data": {
      "text/plain": [
       "(<torch.utils.data.dataloader.DataLoader at 0x202788040a0>,\n",
       " <torch.utils.data.dataloader.DataLoader at 0x20278804dc0>)"
      ]
     },
     "execution_count": 11,
     "metadata": {},
     "output_type": "execute_result"
    }
   ],
   "source": [
    "from torch.utils.data import DataLoader\n",
    "\n",
    "\n",
    "# --- Hyperparameters for Data Loading ---\n",
    "# BATCH_SIZE: Increase this to the largest value that fits on your GPU VRAM.\n",
    "BATCH_SIZE = 8\n",
    "\n",
    "# NUM_WORKERS: The number of parallel processes for data loading.\n",
    "# On Windows, setting this > 0 can cause a deadlock if not handled carefully.\n",
    "# Start with 0 to ensure the program runs. If it works, you can try a small\n",
    "# number like 2 or 4. Using os.cpu_count() is often unstable on Windows.\n",
    "NUM_WORKERS = os.cpu_count() # START WITH 0 TO FIX THE HANG.\n",
    "\n",
    "train_loader = DataLoader(dataset= train_dataset,\n",
    "                        shuffle= True,\n",
    "                        \n",
    "                        batch_size= BATCH_SIZE,\n",
    "                        num_workers= 0,\n",
    "                        \n",
    "                        pin_memory= True)\n",
    "\n",
    "val_loader = DataLoader(dataset= val_dataset,\n",
    "                        shuffle= False,\n",
    "                        \n",
    "                        batch_size= BATCH_SIZE,\n",
    "                        num_workers= 0,\n",
    "\n",
    "                        pin_memory= True)\n",
    "                        \n",
    "\n",
    "train_loader, val_loader\n",
    "\n"
   ]
  },
  {
   "cell_type": "markdown",
   "id": "f1361035",
   "metadata": {},
   "source": [
    "## 3. Loss function, optimizer, and metrics\n",
    "\n",
    "Choices and rationale:\n",
    "\n",
    "- Loss: MONAI's `DiceLoss(sigmoid=True)` is used because Dice is appropriate for segmentation and encourages overlap between predictions and ground truth. `sigmoid=True` applies a per-pixel sigmoid to raw logits.\n",
    "- Optimizer: Adam with a small learning rate (1e-4) is a good default for fine-tuning segmentation heads.\n",
    "- Scheduler: `ReduceLROnPlateau` reduces the learning rate if validation loss plateaus, helping escape local minima.\n",
    "- Metric: MONAI's `DiceMetric` (with `include_background=False`) evaluates segmentation quality excluding background to focus on tumor detection.\n",
    "- AMP: Automatic Mixed Precision via `torch.amp.GradScaler` speeds up training on modern GPUs and reduces memory usage.\n",
    "\n",
    "We also keep a `best_val_dice` to checkpoint the best-performing model during training.\n"
   ]
  },
  {
   "cell_type": "code",
   "execution_count": 12,
   "id": "a67a1893",
   "metadata": {},
   "outputs": [],
   "source": [
    "from monai.losses import DiceCELoss\n",
    "from monai.metrics import DiceMetric\n",
    "\n",
    "# Move the model to the target device (GPU/CPU) before creating the optimizer.\n",
    "# This ensures that the optimizer is initialized with the model parameters on the correct device.\n",
    "deeplap_V3.to(device)\n",
    "\n",
    "# Define the loss function. DiceCELoss combines Dice and Cross-Entropy for more stable training.\n",
    "# For multi-class output (even with 2 classes), softmax is the correct activation.\n",
    "# to_onehot_y=True converts the single-channel mask to a 2-channel one-hot mask.\n",
    "# It applies a sigmoid to the output before calculating loss.\n",
    "class_weights = torch.tensor([0.1, 0.9], device=device)  # background, foreground\n",
    "loss_fn = DiceCELoss(softmax=True,\n",
    "                    to_onehot_y=True,\n",
    "                    include_background=True,\n",
    "                    weight=class_weights )\n",
    "\n",
    "# Define the optimizer.\n",
    "optimizer = torch.optim.Adam(deeplap_V3.parameters(), \n",
    "                            lr=1e-4)\n",
    "\n",
    "# Define a learning rate scheduler. \n",
    "# It will reduce the learning rate when the validation loss stops improving ('min' mode).\n",
    "scheduler = torch.optim.lr_scheduler.ReduceLROnPlateau(optimizer,\n",
    "                                                        mode='min', \n",
    "                                                        factor=0.1, \n",
    "                                                        patience=10)\n",
    "\n",
    "\n",
    "# Initialize the Dice Metric for evaluating segmentation performance.\n",
    "# `include_background=False` means the background class (label 0) is ignored during calculation.\n",
    "# `reduction=\"mean\"` specifies that the Dice scores for all classes will be averaged.\n",
    "metric = DiceMetric(include_background=False,\n",
    "                    reduction= \"mean\")\n",
    "\n",
    "# Set the total number of training epochs.\n",
    "epochs = 10\n",
    "\n",
    "# Initialize a variable to track the best validation Dice score achieved so far.\n",
    "# This is used to save the best performing model checkpoint.\n",
    "best_val_dice = 0.0\n",
    "\n",
    "# Initialize a Gradient Scaler for Automatic Mixed Precision (AMP) training.\n",
    "# This helps prevent underflow of gradients when using float16 precision,\n",
    "# improving training stability and speed on compatible GPUs.\n",
    "scaler = torch.amp.GradScaler(device = \"cuda\")\n",
    "\n"
   ]
  },
  {
   "cell_type": "markdown",
   "id": "182c9859",
   "metadata": {},
   "source": [
    "## 4. Training loop\n",
    "\n",
    "Training uses a modular engine (imported from `going_modular.engine`) to encapsulate the training and validation steps. Key points:\n",
    "\n",
    "- The engine handles forward/backward passes, loss computation, metric updates, AMP scaling, scheduler steps, and checkpointing.\n",
    "- Provide model, data loaders, loss function, optimizer, scheduler, scaler, device, number of epochs, and a checkpoint directory.\n",
    "- Checkpointing saves the best model (by validation Dice) so you can resume or evaluate the best weights later.\n",
    "\n",
    "After training, inspect the saved checkpoints and validation metrics to assess performance. Consider unfreezing parts of the backbone and fine-tuning with a lower learning rate if more improvement is needed.\n"
   ]
  },
  {
   "cell_type": "code",
   "execution_count": 13,
   "id": "5e841c59",
   "metadata": {},
   "outputs": [],
   "source": [
    "# # TESTING\n",
    "\n",
    "# from going_modular import engine\n",
    "\n",
    "# mean_dice, mean_accuracy = engine.evaluate(model = deeplap_V3, \n",
    "#                                             loader = val_loader,\n",
    "#                                             metric = metric,\n",
    "#                                             device = device,\n",
    "#                                             epoch_num = 1)\n",
    "\n",
    "# mean_dice, mean_accuracy"
   ]
  },
  {
   "cell_type": "code",
   "execution_count": null,
   "id": "3412c0cd",
   "metadata": {},
   "outputs": [],
   "source": [
    "from engine import train, plot_results\n",
    "\n",
    "results = train(model = deeplap_V3,\n",
    "                    \n",
    "                    train_loader = train_loader,\n",
    "                    test_loader = val_loader, \n",
    "                    \n",
    "                    loss_fn = loss_fn, \n",
    "                    metric = metric,\n",
    "                    optimizer = optimizer, \n",
    "                    scheduler = scheduler,\n",
    "                    scaler = scaler, \n",
    "                    \n",
    "                    device = device, \n",
    "                    epochs = epochs,\n",
    "                    checkpoint_dir = \"checkpoints_2/ \")\n"
   ]
  },
  {
   "cell_type": "code",
   "execution_count": null,
   "id": "dc5734a7",
   "metadata": {},
   "outputs": [
    {
     "data": {
      "image/png": "[encoded data removed]",
      "text/plain": [
       "<Figure size 1000x600 with 2 Axes>"
      ]
     },
     "metadata": {},
     "output_type": "display_data"
    }
   ],
   "source": [
    "plot_results(results)"
   ]
  }
 ],
 "metadata": {
  "kernelspec": {
   "display_name": ".venv",
   "language": "python",
   "name": "python3"
  },
  "language_info": {
   "codemirror_mode": {
    "name": "ipython",
    "version": 3
   },
   "file_extension": ".py",
   "mimetype": "text/x-python",
   "name": "python",
   "nbconvert_exporter": "python",
   "pygments_lexer": "ipython3",
   "version": "3.10.5"
  }
 },
 "nbformat": 4,
 "nbformat_minor": 5
}
